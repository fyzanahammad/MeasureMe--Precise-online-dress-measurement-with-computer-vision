{
 "cells": [
  {
   "cell_type": "code",
   "execution_count": 1,
   "metadata": {},
   "outputs": [
    {
     "ename": "ModuleNotFoundError",
     "evalue": "No module named 'openpose'",
     "output_type": "error",
     "traceback": [
      "\u001b[1;31m---------------------------------------------------------------------------\u001b[0m",
      "\u001b[1;31mModuleNotFoundError\u001b[0m                       Traceback (most recent call last)",
      "Cell \u001b[1;32mIn[1], line 3\u001b[0m\n\u001b[0;32m      1\u001b[0m \u001b[38;5;28;01mimport\u001b[39;00m \u001b[38;5;21;01mcv2\u001b[39;00m\n\u001b[0;32m      2\u001b[0m \u001b[38;5;28;01mimport\u001b[39;00m \u001b[38;5;21;01mnumpy\u001b[39;00m \u001b[38;5;28;01mas\u001b[39;00m \u001b[38;5;21;01mnp\u001b[39;00m\n\u001b[1;32m----> 3\u001b[0m \u001b[38;5;28;01mfrom\u001b[39;00m \u001b[38;5;21;01mopenpose\u001b[39;00m \u001b[38;5;28;01mimport\u001b[39;00m pyopenpose \u001b[38;5;28;01mas\u001b[39;00m op\n",
      "\u001b[1;31mModuleNotFoundError\u001b[0m: No module named 'openpose'"
     ]
    }
   ],
   "source": [
    "import cv2\n",
    "import numpy as np\n",
    "from openpose import pyopenpose as op"
   ]
  },
  {
   "cell_type": "code",
   "execution_count": null,
   "metadata": {},
   "outputs": [],
   "source": [
    "# Load OpenPose\n",
    "params = {\n",
    "    \"model_folder\": \"path/to/openpose/models/\",\n",
    "    \"face\": False,  # Disable face detection to speed up processing\n",
    "    \"hand\": False  # Disable hand detection to speed up processing\n",
    "}\n",
    "openpose = op.WrapperPython()\n",
    "openpose.configure(params)\n",
    "openpose.start()"
   ]
  },
  {
   "cell_type": "code",
   "execution_count": null,
   "metadata": {},
   "outputs": [],
   "source": [
    "# Open webcam\n",
    "cap = cv2.VideoCapture(0)\n",
    "\n",
    "while True:\n",
    "    # Read frame from webcam\n",
    "    ret, frame = cap.read()\n",
    "    if not ret:\n",
    "        break\n",
    "\n",
    "    # Process image with OpenPose\n",
    "    datum = op.Datum()\n",
    "    datum.cvInputData = frame\n",
    "    openpose.emplaceAndPop([datum])\n",
    "\n",
    "    # Draw landmarks on frame\n",
    "    if datum.poseKeypoints is not None:\n",
    "        for landmark in datum.poseKeypoints[0]:\n",
    "            x, y, conf = landmark[:3]\n",
    "            if conf > 0:  # Draw only if confidence is above a threshold\n",
    "                cv2.circle(frame, (int(x), int(y)), 4, (0, 255, 255), -1)\n",
    "\n",
    "    # Display frame\n",
    "    cv2.imshow(\"OpenPose Landmarks\", frame)\n",
    "\n",
    "    # Exit on 'q' key\n",
    "    if cv2.waitKey(1) & 0xFF == ord('q'):\n",
    "        break\n",
    "\n",
    "# Release resources\n",
    "cap.release()\n",
    "cv2.destroyAllWindows()"
   ]
  }
 ],
 "metadata": {
  "kernelspec": {
   "display_name": "isl",
   "language": "python",
   "name": "python3"
  },
  "language_info": {
   "codemirror_mode": {
    "name": "ipython",
    "version": 3
   },
   "file_extension": ".py",
   "mimetype": "text/x-python",
   "name": "python",
   "nbconvert_exporter": "python",
   "pygments_lexer": "ipython3",
   "version": "3.10.6"
  }
 },
 "nbformat": 4,
 "nbformat_minor": 2
}
